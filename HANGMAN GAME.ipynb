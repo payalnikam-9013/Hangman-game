{
 "cells": [
  {
   "cell_type": "code",
   "execution_count": 1,
   "id": "284c25db-bbe0-47c5-9476-072846444155",
   "metadata": {},
   "outputs": [],
   "source": [
    "import random"
   ]
  },
  {
   "cell_type": "code",
   "execution_count": 2,
   "id": "92947ae0-202e-46f4-9874-9d76f18fcf7d",
   "metadata": {},
   "outputs": [],
   "source": [
    "words = ['python', 'hangman', 'challenge', 'programming', 'openai', 'artificial', 'intelligence']"
   ]
  },
  {
   "cell_type": "code",
   "execution_count": 3,
   "id": "1e75b657-1d5d-420d-ac50-5241d8a68872",
   "metadata": {},
   "outputs": [],
   "source": [
    "word = random.choice(words)"
   ]
  },
  {
   "cell_type": "code",
   "execution_count": 4,
   "id": "3ad7e4a9-c559-4a64-a400-c3632c0b732c",
   "metadata": {},
   "outputs": [],
   "source": [
    "guessed_letters = []   # To store guessed letters\n",
    "attempts = 6           # Number of allowed wrong attempts\n"
   ]
  },
  {
   "cell_type": "code",
   "execution_count": 5,
   "id": "84acbaf1-cdbe-4f64-8cbe-586168a16bdf",
   "metadata": {},
   "outputs": [],
   "source": [
    "def display_word(word, guessed_letters):\n",
    "    display = ''\n",
    "    for letter in word:\n",
    "        if letter in guessed_letters:\n",
    "            display += letter + ' '\n",
    "        else:\n",
    "            display += '_ '\n",
    "    return display\n"
   ]
  },
  {
   "cell_type": "code",
   "execution_count": 6,
   "id": "53521517-f5e1-405a-ba5b-c03e58863b48",
   "metadata": {},
   "outputs": [
    {
     "name": "stdout",
     "output_type": "stream",
     "text": [
      "\n",
      "Word: _ _ _ _ _ _ \n"
     ]
    },
    {
     "name": "stdin",
     "output_type": "stream",
     "text": [
      "Guess a letter:  python\n"
     ]
    },
    {
     "name": "stdout",
     "output_type": "stream",
     "text": [
      "Please enter a single alphabetic character.\n",
      "\n",
      "Word: _ _ _ _ _ _ \n"
     ]
    },
    {
     "name": "stdin",
     "output_type": "stream",
     "text": [
      "Guess a letter:  hi\n"
     ]
    },
    {
     "name": "stdout",
     "output_type": "stream",
     "text": [
      "Please enter a single alphabetic character.\n",
      "\n",
      "Word: _ _ _ _ _ _ \n"
     ]
    },
    {
     "name": "stdin",
     "output_type": "stream",
     "text": [
      "Guess a letter:  h\n"
     ]
    },
    {
     "name": "stdout",
     "output_type": "stream",
     "text": [
      "Good guess!\n",
      "\n",
      "Word: _ _ _ h _ _ \n"
     ]
    },
    {
     "name": "stdin",
     "output_type": "stream",
     "text": [
      "Guess a letter:  p\n"
     ]
    },
    {
     "name": "stdout",
     "output_type": "stream",
     "text": [
      "Good guess!\n",
      "\n",
      "Word: p _ _ h _ _ \n"
     ]
    },
    {
     "name": "stdin",
     "output_type": "stream",
     "text": [
      "Guess a letter:  h\n"
     ]
    },
    {
     "name": "stdout",
     "output_type": "stream",
     "text": [
      "You already guessed that letter!\n",
      "\n",
      "Word: p _ _ h _ _ \n"
     ]
    },
    {
     "name": "stdin",
     "output_type": "stream",
     "text": [
      "Guess a letter:  p\n"
     ]
    },
    {
     "name": "stdout",
     "output_type": "stream",
     "text": [
      "You already guessed that letter!\n",
      "\n",
      "Word: p _ _ h _ _ \n"
     ]
    },
    {
     "name": "stdin",
     "output_type": "stream",
     "text": [
      "Guess a letter:  y\n"
     ]
    },
    {
     "name": "stdout",
     "output_type": "stream",
     "text": [
      "Good guess!\n",
      "\n",
      "Word: p y _ h _ _ \n"
     ]
    },
    {
     "name": "stdin",
     "output_type": "stream",
     "text": [
      "Guess a letter:  t\n"
     ]
    },
    {
     "name": "stdout",
     "output_type": "stream",
     "text": [
      "Good guess!\n",
      "\n",
      "Word: p y t h _ _ \n"
     ]
    },
    {
     "name": "stdin",
     "output_type": "stream",
     "text": [
      "Guess a letter:  h\n"
     ]
    },
    {
     "name": "stdout",
     "output_type": "stream",
     "text": [
      "You already guessed that letter!\n",
      "\n",
      "Word: p y t h _ _ \n"
     ]
    },
    {
     "name": "stdin",
     "output_type": "stream",
     "text": [
      "Guess a letter:  o\n"
     ]
    },
    {
     "name": "stdout",
     "output_type": "stream",
     "text": [
      "Good guess!\n",
      "\n",
      "Word: p y t h o _ \n"
     ]
    },
    {
     "name": "stdin",
     "output_type": "stream",
     "text": [
      "Guess a letter:  n\n"
     ]
    },
    {
     "name": "stdout",
     "output_type": "stream",
     "text": [
      "Good guess!\n",
      "\n",
      "Congratulations! You guessed the word: python\n"
     ]
    }
   ],
   "source": [
    "while attempts > 0:\n",
    "    print(\"\\nWord:\", display_word(word, guessed_letters))\n",
    "    guess = input(\"Guess a letter: \").lower()\n",
    "\n",
    "    if not guess.isalpha() or len(guess) != 1:\n",
    "        print(\"Please enter a single alphabetic character.\")\n",
    "        continue\n",
    "\n",
    "    if guess in guessed_letters:\n",
    "        print(\"You already guessed that letter!\")\n",
    "        continue\n",
    "\n",
    "    guessed_letters.append(guess)\n",
    "\n",
    "    if guess in word:\n",
    "        print(\"Good guess!\")\n",
    "    else:\n",
    "        print(\"Wrong guess!\")\n",
    "        attempts -= 1\n",
    "\n",
    "    if all(letter in guessed_letters for letter in word):\n",
    "        print(\"\\nCongratulations! You guessed the word:\", word)\n",
    "        break\n",
    "else:\n",
    "    print(\"\\nSorry, you ran out of attempts. The word was:\", word)\n"
   ]
  },
  {
   "cell_type": "code",
   "execution_count": null,
   "id": "1b2d0346-ef76-4d2b-b339-7f9020b9824f",
   "metadata": {},
   "outputs": [],
   "source": []
  }
 ],
 "metadata": {
  "kernelspec": {
   "display_name": "Python 3 (ipykernel)",
   "language": "python",
   "name": "python3"
  },
  "language_info": {
   "codemirror_mode": {
    "name": "ipython",
    "version": 3
   },
   "file_extension": ".py",
   "mimetype": "text/x-python",
   "name": "python",
   "nbconvert_exporter": "python",
   "pygments_lexer": "ipython3",
   "version": "3.11.7"
  },
  "widgets": {
   "application/vnd.jupyter.widget-state+json": {
    "state": {},
    "version_major": 2,
    "version_minor": 0
   }
  }
 },
 "nbformat": 4,
 "nbformat_minor": 5
}
